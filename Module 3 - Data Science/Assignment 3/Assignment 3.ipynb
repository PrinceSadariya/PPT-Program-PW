{
 "cells": [
  {
   "cell_type": "code",
   "execution_count": 34,
   "id": "7d86e5c2",
   "metadata": {},
   "outputs": [],
   "source": [
    "import numpy as np\n",
    "import statistics\n",
    "import scipy.stats as stats"
   ]
  },
  {
   "cell_type": "markdown",
   "id": "1a63fa66",
   "metadata": {},
   "source": [
    "## Q.1\n",
    "**Scenario: A company wants to analyze the sales performance of its products in different regions. They have collected the following data:\\\n",
    "   Region A: [10, 15, 12, 8, 14]\\\n",
    "   Region B: [18, 20, 16, 22, 25]\\\n",
    "   Calculate the mean sales for each region.**\n",
    "\n",
    "### Ans."
   ]
  },
  {
   "cell_type": "code",
   "execution_count": 35,
   "id": "2af9bb20",
   "metadata": {},
   "outputs": [
    {
     "name": "stdout",
     "output_type": "stream",
     "text": [
      "Mean sale of Region a : 11.8\n",
      "Mean sale of Region b : 20.2\n"
     ]
    }
   ],
   "source": [
    "a = [10, 15, 12, 8, 14]\n",
    "b = [18, 20, 16, 22, 25]\n",
    "\n",
    "print(\"Mean sale of Region a :\",np.mean(a))\n",
    "print(\"Mean sale of Region b :\",np.mean(b))"
   ]
  },
  {
   "cell_type": "markdown",
   "id": "9b91694d",
   "metadata": {},
   "source": [
    "## Q.2\n",
    "**Scenario: A survey is conducted to measure customer satisfaction on a scale of 1 to 5. The data collected is as follows:\\\n",
    "   [4, 5, 2, 3, 5, 4, 3, 2, 4, 5]\\\n",
    "   Calculate the mode of the survey responses.**\n",
    "        \n",
    "### Ans."
   ]
  },
  {
   "cell_type": "code",
   "execution_count": 36,
   "id": "cfc964af",
   "metadata": {},
   "outputs": [
    {
     "name": "stdout",
     "output_type": "stream",
     "text": [
      "Mode of the survey :  4\n"
     ]
    }
   ],
   "source": [
    "satisfaction = [4, 5, 2, 3, 5, 4, 3, 2, 4, 5]\n",
    "print(\"Mode of the survey : \",statistics.mode(satisfaction))"
   ]
  },
  {
   "cell_type": "markdown",
   "id": "689b9445",
   "metadata": {},
   "source": [
    "## Q.3\n",
    "**Scenario: A company wants to compare the salaries of two departments. The salary data for Department A and Department B are as follows:\\\n",
    "   Department A: [5000, 6000, 5500, 7000]\\\n",
    "   Department B: [4500, 5500, 5800, 6000, 5200]\\\n",
    "   Calculate the median salary for each department.**\n",
    "                \n",
    "### Ans.\n"
   ]
  },
  {
   "cell_type": "code",
   "execution_count": 37,
   "id": "081229b4",
   "metadata": {},
   "outputs": [
    {
     "name": "stdout",
     "output_type": "stream",
     "text": [
      "Median salary of fepartment a :  5750.0\n",
      "Median salary of fepartment b :  5500.0\n"
     ]
    }
   ],
   "source": [
    "dep_a = [5000, 6000, 5500, 7000]\n",
    "dep_b = [4500, 5500, 5800, 6000, 5200]\n",
    "\n",
    "print(\"Median salary of fepartment a : \" ,np.median(dep_a))\n",
    "print(\"Median salary of fepartment b : \" ,np.median(dep_b))"
   ]
  },
  {
   "cell_type": "markdown",
   "id": "bd988f7d",
   "metadata": {},
   "source": [
    "## Q.4\n",
    "**Scenario: A data analyst wants to determine the variability in the daily stock prices of a company. The data collected is as follows:\\\n",
    "   [25.5, 24.8, 26.1, 25.3, 24.9]\\\n",
    "   Calculate the range of the stock prices.**\n",
    "\n",
    "### Ans."
   ]
  },
  {
   "cell_type": "code",
   "execution_count": 38,
   "id": "c00a8765",
   "metadata": {},
   "outputs": [
    {
     "name": "stdout",
     "output_type": "stream",
     "text": [
      "1.3000000000000007\n"
     ]
    }
   ],
   "source": [
    "stock_data = [25.5, 24.8, 26.1, 25.3, 24.9]\n",
    "print(np.ptp(stock_data))"
   ]
  },
  {
   "cell_type": "markdown",
   "id": "6c036d95",
   "metadata": {},
   "source": [
    "## Q.5\n",
    "**Scenario: A study is conducted to compare the performance of two different teaching methods. The test scores of the students in each group are as follows:\\\n",
    "   Group A: [85, 90, 92, 88, 91]\\\n",
    "   Group B: [82, 88, 90, 86, 87]\\\n",
    "   Perform a t-test to determine if there is a significant difference in the mean scores between the two groups.**\n",
    "\n",
    "### Ans."
   ]
  },
  {
   "cell_type": "code",
   "execution_count": 39,
   "id": "0033cefa",
   "metadata": {},
   "outputs": [
    {
     "name": "stdout",
     "output_type": "stream",
     "text": [
      "T-statistic :  1.4312528946642733\n",
      "P-value :  0.19023970239078333\n"
     ]
    }
   ],
   "source": [
    "a = [85, 90, 92, 88, 91]\n",
    "b = [82, 88, 90, 86, 87]\n",
    "\n",
    "t_test , p_val = stats.ttest_ind(a,b)\n",
    "\n",
    "print(\"T-statistic : \",t_test)\n",
    "print(\"P-value : \",p_val)"
   ]
  },
  {
   "cell_type": "markdown",
   "id": "0fa179e3",
   "metadata": {},
   "source": [
    "## Q.6\n",
    "**Scenario: A company wants to analyze the relationship between advertising expenditure and sales. The data collected is as follows:\\\n",
    "   Advertising Expenditure (in thousands): [10, 15, 12, 8, 14]\\\n",
    "   Sales (in thousands): [25, 30, 28, 20, 26]\\\n",
    "   Calculate the correlation coefficient between advertising expenditure and sales.**\n",
    "\n",
    "### Ans."
   ]
  },
  {
   "cell_type": "code",
   "execution_count": 40,
   "id": "29e7ab4c",
   "metadata": {},
   "outputs": [
    {
     "name": "stdout",
     "output_type": "stream",
     "text": [
      "Correlation Coefficient :  0.8757511375750132\n"
     ]
    }
   ],
   "source": [
    "add_exp = [10, 15, 12, 8, 14]\n",
    "sale = [25, 30, 28, 20, 26]\n",
    "\n",
    "corr_coef = np.corrcoef(add_exp,sale)[0,1] \n",
    "\n",
    "print(\"Correlation Coefficient : \" ,corr_coef)"
   ]
  },
  {
   "cell_type": "markdown",
   "id": "ab15b6a5",
   "metadata": {},
   "source": [
    "## Q.7\n",
    "**Scenario: A survey is conducted to measure the heights of a group of people. The data collected is as follows:\\\n",
    "   [160, 170, 165, 155, 175, 180, 170]\\\n",
    "   Calculate the standard deviation of the heights.**\n",
    "\n",
    "### Ans."
   ]
  },
  {
   "cell_type": "code",
   "execution_count": 41,
   "id": "c16a5c03",
   "metadata": {},
   "outputs": [
    {
     "name": "stdout",
     "output_type": "stream",
     "text": [
      "Standard Deviation :  7.953949089757174\n"
     ]
    }
   ],
   "source": [
    "heights = [160, 170, 165, 155, 175, 180, 170]\n",
    "print(\"Standard Deviation : \",np.std(heights))"
   ]
  },
  {
   "cell_type": "markdown",
   "id": "325a11a2",
   "metadata": {},
   "source": [
    "## Q.8\n",
    "**Scenario: A company wants to analyze the relationship between employee tenure and job satisfaction. The data collected is as follows:\\\n",
    "         Employee Tenure (in years): [2, 3, 5, 4, 6, 2, 4]\\\n",
    "   Job Satisfaction (on a scale of 1 to 10): [7, 8, 6, 9, 5, 7, 6]\\\n",
    "   Perform a linear regression analysis to predict job satisfaction based on employee tenure.**\n",
    "\n",
    "### Ans."
   ]
  },
  {
   "cell_type": "code",
   "execution_count": 42,
   "id": "c87600c8",
   "metadata": {},
   "outputs": [
    {
     "name": "stdout",
     "output_type": "stream",
     "text": [
      "[6.25531915]\n"
     ]
    }
   ],
   "source": [
    "tenure = np.array([[2, 3, 5, 4, 6, 2, 4]]).T\n",
    "satisfaction = [7, 8, 6, 9, 5, 7, 6]\n",
    "\n",
    "from sklearn.linear_model import LinearRegression\n",
    "regressor = LinearRegression()\n",
    "\n",
    "regressor.fit(tenure,satisfaction)\n",
    "\n",
    "new_tenure = [[5]]\n",
    "pred_satisfaction = regressor.predict(new_tenure)\n",
    "print(pred_satisfaction)"
   ]
  },
  {
   "cell_type": "markdown",
   "id": "1ab8ec50",
   "metadata": {},
   "source": [
    "## Q.9\n",
    "**Scenario: A study is conducted to compare the effectiveness of two different medications. The recovery times of the patients in each group are as follows:\\\n",
    "   Medication A: [10, 12, 14, 11, 13]\\\n",
    "   Medication B: [15, 17, 16, 14, 18]\\\n",
    "   Perform an analysis of variance (ANOVA) to determine if there is a significant difference in the mean recovery times between the two medications.**\n",
    "\n",
    "### Ans.\n"
   ]
  },
  {
   "cell_type": "code",
   "execution_count": 43,
   "id": "6de6577b",
   "metadata": {},
   "outputs": [
    {
     "name": "stdout",
     "output_type": "stream",
     "text": [
      "F-Statistics :  16.0\n",
      "P-Value :  0.003949772803445326\n"
     ]
    }
   ],
   "source": [
    "a = [10, 12, 14, 11, 13]\n",
    "b = [15, 17, 16, 14, 18]\n",
    "\n",
    "f_stats , p_val = stats.f_oneway(a,b)\n",
    "\n",
    "print(\"F-Statistics : \",f_stats)\n",
    "print(\"P-Value : \",p_val)"
   ]
  },
  {
   "cell_type": "markdown",
   "id": "6cbfa3c4",
   "metadata": {},
   "source": [
    "## Q.10\n",
    "**Scenario: A company wants to analyze customer feedback ratings on a scale of 1 to 10. The data collected is as follows:\\\n",
    "    [8, 9, 7, 6, 8, 10, 9, 8, 7, 8]\\\n",
    "    Calculate the 75th percentile of the feedback ratings.**\n",
    "        \n",
    "### Ans.\n"
   ]
  },
  {
   "cell_type": "code",
   "execution_count": 44,
   "id": "b9506d16",
   "metadata": {},
   "outputs": [
    {
     "name": "stdout",
     "output_type": "stream",
     "text": [
      "75th percintle :  8.75\n"
     ]
    }
   ],
   "source": [
    "feedbacks = [8, 9, 7, 6, 8, 10, 9, 8, 7, 8]\n",
    "\n",
    "print(\"75th percintle : \",np.percentile(feedbacks,75))"
   ]
  },
  {
   "cell_type": "markdown",
   "id": "e8d2a751",
   "metadata": {},
   "source": [
    "## Q.11\n",
    "**Scenario: A quality control department wants to test the weight consistency of a product. The weights of a sample of products are as follows:\\\n",
    "    [10.2, 9.8, 10.0, 10.5, 10.3, 10.1]\\\n",
    "    Perform a hypothesis test to determine if the mean weight differs significantly from 10 grams**\n",
    "\n",
    "### Ans."
   ]
  },
  {
   "cell_type": "code",
   "execution_count": 45,
   "id": "d96e9c9c",
   "metadata": {},
   "outputs": [
    {
     "name": "stdout",
     "output_type": "stream",
     "text": [
      "T-statistic: 1.5126584522688367\n",
      "P-value: 0.19077595151110102\n"
     ]
    }
   ],
   "source": [
    "weights = [10.2, 9.8, 10.0, 10.5, 10.3, 10.1]\n",
    "\n",
    "t_stat, p_val = stats.ttest_1samp(weights, 10)\n",
    "\n",
    "print(\"T-statistic:\", t_stat)\n",
    "print(\"P-value:\", p_val)"
   ]
  },
  {
   "cell_type": "markdown",
   "id": "577c8be6",
   "metadata": {},
   "source": [
    "## Q.12\n",
    "**Scenario: A company wants to analyze the click-through rates of two different website designs. The number of clicks for each design is as follows:\\\n",
    "    Design A: [100, 120, 110, 90, 95]\\\n",
    "    Design B: [80, 85, 90, 95, 100]\\\n",
    "    Perform a chi-square test to determine if there is a significant difference in the click-through rates between the two designs.**\n",
    "                \n",
    "### Ans.\n"
   ]
  },
  {
   "cell_type": "code",
   "execution_count": 46,
   "id": "a888d541",
   "metadata": {},
   "outputs": [
    {
     "name": "stdout",
     "output_type": "stream",
     "text": [
      "Chi-square statistic : 6.110658166925435\n",
      "P-Value : 0.19103526314060296\n"
     ]
    }
   ],
   "source": [
    "a = [100, 120, 110, 90, 95]\n",
    "b = [80, 85, 90, 95, 100]\n",
    "\n",
    "observed_table = np.array([a,b])\n",
    "\n",
    "chi2_stats,p_val,_,_ = stats.chi2_contingency(observed_table)\n",
    "\n",
    "print(\"Chi-square statistic :\",chi2_stats)\n",
    "print(\"P-Value :\",p_val)"
   ]
  },
  {
   "cell_type": "markdown",
   "id": "80b0557a",
   "metadata": {},
   "source": [
    "## Q.13\n",
    "**Scenario: A survey is conducted to measure customer satisfaction with a product on a scale of 1 to 10. The data collected is as follows:\\\n",
    "    [7, 9, 6, 8, 10, 7, 8, 9, 7, 8]\\\n",
    "    Calculate the 95% confidence interval for the population mean satisfaction score.**\n",
    "\n",
    "### Ans.        "
   ]
  },
  {
   "cell_type": "code",
   "execution_count": 47,
   "id": "13c0b7d0",
   "metadata": {},
   "outputs": [
    {
     "name": "stdout",
     "output_type": "stream",
     "text": [
      "95% Confidence Interval: (7.043561120599888, 8.756438879400113)\n"
     ]
    }
   ],
   "source": [
    "satisfaction = [7, 9, 6, 8, 10, 7, 8, 9, 7, 8]\n",
    "\n",
    "confidence_level = 0.95\n",
    "\n",
    "sample_mean = np.mean(satisfaction)\n",
    "sample_std = np.std(satisfaction, ddof=1)\n",
    "sample_size = len(satisfaction)\n",
    "\n",
    "t_critical = stats.t.ppf((1 + confidence_level) / 2, df=sample_size - 1)\n",
    "margin_of_error = t_critical * sample_std / np.sqrt(sample_size)\n",
    "\n",
    "confidence_interval = (sample_mean - margin_of_error, sample_mean + margin_of_error)\n",
    "\n",
    "print(\"95% Confidence Interval:\", confidence_interval)"
   ]
  },
  {
   "cell_type": "markdown",
   "id": "dbdff0b5",
   "metadata": {},
   "source": [
    "## Q.14\n",
    "**Scenario: A company wants to analyze the effect of temperature on product performance. The data collected is as follows:\\\n",
    "    Temperature (in degrees Celsius): [20, 22, 23, 19, 21]\\\n",
    "    Performance (on a scale of 1 to 10): [8, 7, 9, 6, 8]\\\n",
    "    Perform a simple linear regression to predict performance based on temperature.**\n",
    "\n",
    "### Ans."
   ]
  },
  {
   "cell_type": "code",
   "execution_count": 48,
   "id": "139beab5",
   "metadata": {},
   "outputs": [
    {
     "name": "stdout",
     "output_type": "stream",
     "text": [
      "[4.6]\n"
     ]
    }
   ],
   "source": [
    "temp = np.array([[20, 22, 23, 19, 21]]).T\n",
    "performance = [8, 7, 9, 6, 8]\n",
    "\n",
    "regressor = LinearRegression()\n",
    "\n",
    "regressor.fit(temp,performance)\n",
    "\n",
    "pred_per = regressor.predict([[15]])\n",
    "print(pred_per)"
   ]
  },
  {
   "cell_type": "markdown",
   "id": "02c7e92b",
   "metadata": {},
   "source": [
    "## Q.15\n",
    "**Scenario: A study is conducted to compare the preferences of two groups of participants. The preferences are measured on a Likert scale from 1 to 5. The data collected is as follows:\\\n",
    "    Group A: [4, 3, 5, 2, 4]\\\n",
    "    Group B: [3, 2, 4, 3, 3]\\\n",
    "    Perform a Mann-Whitney U test to determine if there is a significant difference in the median preferences between the two groups.**\n",
    "\n",
    "\n",
    "### Ans."
   ]
  },
  {
   "cell_type": "code",
   "execution_count": 49,
   "id": "9f7c8536",
   "metadata": {},
   "outputs": [
    {
     "name": "stdout",
     "output_type": "stream",
     "text": [
      "Mann-Whitney U statistic :  17.0\n",
      "P-Value :  0.380836480306712\n"
     ]
    }
   ],
   "source": [
    "a = [4, 3, 5, 2, 4]\n",
    "b = [3, 2, 4, 3, 3]\n",
    "\n",
    "stat , p_val = stats.mannwhitneyu(a,b)\n",
    "\n",
    "print(\"Mann-Whitney U statistic : \",stat)\n",
    "print(\"P-Value : \",p_val)"
   ]
  },
  {
   "cell_type": "markdown",
   "id": "016e67a0",
   "metadata": {},
   "source": [
    "## Q.16\n",
    "**Scenario: A company wants to analyze the distribution of customer ages. The data collected is as follows:\\\n",
    "    [25, 30, 35, 40, 45, 50, 55, 60, 65, 70]\\\n",
    "    Calculate the interquartile range (IQR) of the ages.**\n",
    "\n",
    "### Ans."
   ]
  },
  {
   "cell_type": "code",
   "execution_count": 50,
   "id": "0cfd7dc4",
   "metadata": {},
   "outputs": [
    {
     "name": "stdout",
     "output_type": "stream",
     "text": [
      "Interquartile Range (IQR) :  22.5\n"
     ]
    }
   ],
   "source": [
    "ages = [25, 30, 35, 40, 45, 50, 55, 60, 65, 70]\n",
    "\n",
    "q1 = np.percentile(ages, 25)\n",
    "q3 = np.percentile(ages, 75)\n",
    "\n",
    "iqr = q3 - q1\n",
    "\n",
    "print(\"Interquartile Range (IQR) : \",iqr)"
   ]
  },
  {
   "cell_type": "markdown",
   "id": "e22c71dc",
   "metadata": {},
   "source": [
    "## Q.17 \n",
    "**Scenario: A study is conducted to compare the performance of three different machine learning algorithms. The accuracy scores for each algorithm are as follows:\\\n",
    "    Algorithm A: [0.85, 0.80, 0.82, 0.87, 0.83]\\\n",
    "    Algorithm B: [0.78, 0.82, 0.84, 0.80, 0.79]\\\n",
    "    Algorithm C: [0.90, 0.88, 0.89, 0.86, 0.87]\\\n",
    "    Perform a Kruskal-Wallis test to determine if there is a significant difference in the median accuracy scores between the algorithms.**\n",
    "                    \n",
    "### Ans.\n"
   ]
  },
  {
   "cell_type": "code",
   "execution_count": 51,
   "id": "7d9c0d07",
   "metadata": {},
   "outputs": [
    {
     "name": "stdout",
     "output_type": "stream",
     "text": [
      "Kruskal-Wallis statistic :  9.696947935368053\n",
      "P-Value :  0.007840333026249539\n"
     ]
    }
   ],
   "source": [
    "a = [0.85, 0.80, 0.82, 0.87, 0.83]\n",
    "b = [0.78, 0.82, 0.84, 0.80, 0.79]\n",
    "c = [0.90, 0.88, 0.89, 0.86, 0.87]\n",
    "\n",
    "stat , p_val = stats.kruskal(a,b,c)\n",
    "\n",
    "print(\"Kruskal-Wallis statistic : \",stat)\n",
    "print(\"P-Value : \",p_val)"
   ]
  },
  {
   "cell_type": "markdown",
   "id": "dd5cb410",
   "metadata": {},
   "source": [
    "## Q.18 \n",
    "**Scenario: A company wants to analyze the effect of price on sales. The data collected is as follows:\\\n",
    "    Price (in dollars): [10, 15, 12, 8, 14]\\\n",
    "    Sales: [100, 80, 90, 110, 95]\\\n",
    "    Perform a simple linear regression to predict sales based on price.**\n",
    "\n",
    "### Ans."
   ]
  },
  {
   "cell_type": "code",
   "execution_count": 52,
   "id": "5adad30d",
   "metadata": {},
   "outputs": [
    {
     "name": "stdout",
     "output_type": "stream",
     "text": [
      "[90.79268293]\n"
     ]
    }
   ],
   "source": [
    "price = np.array([[10, 15, 12, 8, 14]]).T\n",
    "sales = [100, 80, 90, 110, 95]\n",
    "\n",
    "regressor = LinearRegression()\n",
    "\n",
    "regressor.fit(price,sales)\n",
    "\n",
    "pred_sale = regressor.predict([[13]])\n",
    "\n",
    "print(pred_sale)"
   ]
  },
  {
   "cell_type": "markdown",
   "id": "82fdfd3e",
   "metadata": {},
   "source": [
    "## Q.19 \n",
    "**Scenario: A survey is conducted to measure the satisfaction levels of customers with a new product. The data collected is as follows:\\\n",
    "    [7, 8, 9, 6, 8, 7, 9, 7, 8, 7]\\\n",
    "    Calculate the standard error of the mean satisfaction score.**\n",
    "\n",
    "### Ans."
   ]
  },
  {
   "cell_type": "code",
   "execution_count": 53,
   "id": "0bbaf3b0",
   "metadata": {},
   "outputs": [
    {
     "name": "stdout",
     "output_type": "stream",
     "text": [
      "Standard Error :  0.30550504633038933\n"
     ]
    }
   ],
   "source": [
    "satisfaction = [7, 8, 9, 6, 8, 7, 9, 7, 8, 7]\n",
    "\n",
    "print(\"Standard Error : \",stats.sem(satisfaction))"
   ]
  },
  {
   "cell_type": "markdown",
   "id": "47e77212",
   "metadata": {},
   "source": [
    "## Q.20 \n",
    "**Scenario: A company wants to analyze the relationship between advertising expenditure and sales. The data collected is as follows:\\\n",
    "    Advertising Expenditure (in thousands): [10, 15, 12, 8, 14]\\\n",
    "    Sales (in thousands): [25, 30, 28, 20, 26]\\\n",
    "    Perform a multiple regression analysis to predict sales based on advertising expenditure.**\n",
    "\n",
    "### Ans."
   ]
  },
  {
   "cell_type": "code",
   "execution_count": 54,
   "id": "c5e3e1b8",
   "metadata": {},
   "outputs": [
    {
     "name": "stdout",
     "output_type": "stream",
     "text": [
      "[27.18292683]\n"
     ]
    }
   ],
   "source": [
    "add_exp = np.array([[10, 15, 12, 8, 14]]).T\n",
    "sale = [25, 30, 28, 20, 26]\n",
    "\n",
    "regresor = LinearRegression()\n",
    "\n",
    "regresor.fit(add_exp,sale)\n",
    "\n",
    "pred_sale = regresor.predict([[13]])\n",
    "print(pred_sale)"
   ]
  }
 ],
 "metadata": {
  "kernelspec": {
   "display_name": "Python 3 (ipykernel)",
   "language": "python",
   "name": "python3"
  },
  "language_info": {
   "codemirror_mode": {
    "name": "ipython",
    "version": 3
   },
   "file_extension": ".py",
   "mimetype": "text/x-python",
   "name": "python",
   "nbconvert_exporter": "python",
   "pygments_lexer": "ipython3",
   "version": "3.10.0"
  }
 },
 "nbformat": 4,
 "nbformat_minor": 5
}
