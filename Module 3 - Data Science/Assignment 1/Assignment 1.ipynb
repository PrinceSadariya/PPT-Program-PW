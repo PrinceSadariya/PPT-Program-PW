{
 "cells": [
  {
   "cell_type": "markdown",
   "id": "80f1e7ef",
   "metadata": {},
   "source": [
    "### 1. Write a Python program to reverse a string without using any built-in string reversal functions."
   ]
  },
  {
   "cell_type": "code",
   "execution_count": 1,
   "id": "190ca4a3",
   "metadata": {
    "scrolled": true
   },
   "outputs": [
    {
     "name": "stdout",
     "output_type": "stream",
     "text": [
      "atibon\n"
     ]
    }
   ],
   "source": [
    "def reverse_string(s):\n",
    "    s = list(s)\n",
    "    n = len(s)\n",
    "    i = 0\n",
    "    j = n-1\n",
    "    while(i < j):\n",
    "        s[i],s[j] = s[j],s[i]\n",
    "        i += 1\n",
    "        j -= 1\n",
    "        \n",
    "    return \"\".join(s)\n",
    "\n",
    "\n",
    "mystr = \"nobita\"\n",
    "revstr = reverse_string(mystr)\n",
    "print(revstr)"
   ]
  },
  {
   "cell_type": "markdown",
   "id": "2efa1e84",
   "metadata": {},
   "source": [
    "### 2. Implement a function to check if a given string is a palindrome."
   ]
  },
  {
   "cell_type": "code",
   "execution_count": 2,
   "id": "ce9f296b",
   "metadata": {},
   "outputs": [
    {
     "name": "stdout",
     "output_type": "stream",
     "text": [
      "Yes\n"
     ]
    }
   ],
   "source": [
    "def is_palindrome_string(s):\n",
    "    s = s.lower()\n",
    "    i = 0\n",
    "    j = len(s)-1\n",
    "    while(i<j):\n",
    "        if s[i] != s[j]:\n",
    "            return False\n",
    "        i += 1\n",
    "        j -= 1\n",
    "    return True\n",
    "\n",
    "mystr = \"abcbA\"\n",
    "if is_palindrome_string(mystr):\n",
    "    print(\"Yes\")\n",
    "else:\n",
    "    print(\"No\")"
   ]
  },
  {
   "cell_type": "markdown",
   "id": "d67536fd",
   "metadata": {},
   "source": [
    "### 3. Write a program to find the largest element in a given list."
   ]
  },
  {
   "cell_type": "code",
   "execution_count": 3,
   "id": "b2a4fbe2",
   "metadata": {},
   "outputs": [
    {
     "name": "stdout",
     "output_type": "stream",
     "text": [
      "78\n"
     ]
    }
   ],
   "source": [
    "def largest_in_list(l):\n",
    "    # if list has no element\n",
    "    if len(l) == 0:\n",
    "        return None\n",
    "    \n",
    "    maxi = l[0];\n",
    "    \n",
    "    for i in l:\n",
    "        maxi = max(maxi,i)\n",
    "    return maxi\n",
    "\n",
    "l = [12,34,56,78,5,45,67]\n",
    "maxi = largest_in_list(l)\n",
    "print(maxi)"
   ]
  },
  {
   "cell_type": "markdown",
   "id": "fbdecfa7",
   "metadata": {},
   "source": [
    "### 4. Implement a function to count the occurrence of each element in a list."
   ]
  },
  {
   "cell_type": "code",
   "execution_count": 4,
   "id": "75b127f1",
   "metadata": {},
   "outputs": [
    {
     "name": "stdout",
     "output_type": "stream",
     "text": [
      "{12: 2, 34: 1, 56: 1, 67: 1}\n"
     ]
    }
   ],
   "source": [
    "def count_occurrence(l):\n",
    "    my_dict = {}\n",
    "    \n",
    "    for i in l:\n",
    "        if i in my_dict:\n",
    "            my_dict[i] += 1\n",
    "        else:\n",
    "            my_dict[i] = 1\n",
    "        \n",
    "    return my_dict\n",
    "\n",
    "l = [12,34,56,12,67]\n",
    "counts = count_occurrence(l)\n",
    "print(counts)"
   ]
  },
  {
   "cell_type": "markdown",
   "id": "8f564b06",
   "metadata": {},
   "source": [
    "### 5. Write a Python program to find the second largest number in a list."
   ]
  },
  {
   "cell_type": "code",
   "execution_count": 5,
   "id": "e953b8f8",
   "metadata": {},
   "outputs": [
    {
     "name": "stdout",
     "output_type": "stream",
     "text": [
      "None\n"
     ]
    }
   ],
   "source": [
    "def second_largest(l):\n",
    "    # if list has 0 or only 1 element\n",
    "    if(len(l) < 2):\n",
    "        return None\n",
    "    \n",
    "    # calling function for largest which we have defined earlier\n",
    "    largest = largest_in_list(l)\n",
    "    \n",
    "    while(largest in l):\n",
    "        largest_index = l.index(largest)\n",
    "        del l[largest_index]\n",
    "    \n",
    "    second_larg = largest_in_list(l)\n",
    "    \n",
    "    return second_larg\n",
    "\n",
    "l = [12,12]\n",
    "second_largest = second_largest(l)\n",
    "print(second_largest)"
   ]
  },
  {
   "cell_type": "markdown",
   "id": "30c6b5d4",
   "metadata": {},
   "source": [
    "### 6. Implement a function to remove duplicate elements from a list."
   ]
  },
  {
   "cell_type": "code",
   "execution_count": 6,
   "id": "b13a2b26",
   "metadata": {},
   "outputs": [
    {
     "name": "stdout",
     "output_type": "stream",
     "text": [
      "[56, 57, 34, 12]\n"
     ]
    }
   ],
   "source": [
    "def remove_duplicate(l):\n",
    "    return list(set(l))\n",
    "\n",
    "l = [12,34,56,57,56,12]\n",
    "removed_l = remove_duplicate(l)\n",
    "print(removed_l)"
   ]
  },
  {
   "cell_type": "markdown",
   "id": "d0244605",
   "metadata": {},
   "source": [
    "### 7. Write a program to calculate the factorial of a given number."
   ]
  },
  {
   "cell_type": "code",
   "execution_count": 7,
   "id": "32a5f4d0",
   "metadata": {},
   "outputs": [
    {
     "name": "stdout",
     "output_type": "stream",
     "text": [
      "120\n"
     ]
    }
   ],
   "source": [
    "def calculate_factorial(n):\n",
    "    if n == 0 or n == 1:\n",
    "        return 1\n",
    "    \n",
    "    return n * calculate_factorial(n-1)\n",
    "\n",
    "# factorial of 4 \n",
    "facto = calculate_factorial(5)\n",
    "print(facto)"
   ]
  },
  {
   "cell_type": "markdown",
   "id": "8ecd1b4d",
   "metadata": {},
   "source": [
    "### 8. Implement a function to check if a given number is prime."
   ]
  },
  {
   "cell_type": "code",
   "execution_count": 8,
   "id": "6efc6e50",
   "metadata": {},
   "outputs": [
    {
     "name": "stdout",
     "output_type": "stream",
     "text": [
      "True\n"
     ]
    }
   ],
   "source": [
    "def is_prime(n):\n",
    "    for i in range(2,int(n/2)+1):\n",
    "        if n % i == 0:\n",
    "            return False\n",
    "    return True\n",
    "\n",
    "is_pri = is_prime(13)\n",
    "print(is_pri)"
   ]
  },
  {
   "cell_type": "markdown",
   "id": "217a7064",
   "metadata": {},
   "source": [
    "### 9. Write a Python program to sort a list of integers in ascending order."
   ]
  },
  {
   "cell_type": "code",
   "execution_count": 9,
   "id": "ebac265d",
   "metadata": {},
   "outputs": [
    {
     "name": "stdout",
     "output_type": "stream",
     "text": [
      "[3, 12, 23, 34, 45]\n"
     ]
    }
   ],
   "source": [
    "def sort_ascending(l):\n",
    "    sorted_l = l\n",
    "    sorted_l.sort()\n",
    "    return sorted_l\n",
    "\n",
    "l = [12,23,3,45,34]\n",
    "sorted_l = sort_ascending(l)\n",
    "print(sorted_l)"
   ]
  },
  {
   "cell_type": "markdown",
   "id": "f6449b1c",
   "metadata": {},
   "source": [
    "### 10. Implement a function to find the sum of all numbers in a list."
   ]
  },
  {
   "cell_type": "code",
   "execution_count": 10,
   "id": "f831e0c3",
   "metadata": {},
   "outputs": [
    {
     "name": "stdout",
     "output_type": "stream",
     "text": [
      "95\n"
     ]
    }
   ],
   "source": [
    "def sum_list(l):\n",
    "    sum = 0\n",
    "    for i in l:\n",
    "        sum += i\n",
    "    return sum\n",
    "\n",
    "l = [12,34,45,4]\n",
    "sum_l = sum_list(l)\n",
    "print(sum_l)"
   ]
  },
  {
   "cell_type": "markdown",
   "id": "b3049288",
   "metadata": {},
   "source": [
    "### 11. Write a program to find the common elements between two lists."
   ]
  },
  {
   "cell_type": "code",
   "execution_count": 11,
   "id": "22a03932",
   "metadata": {},
   "outputs": [
    {
     "name": "stdout",
     "output_type": "stream",
     "text": [
      "[23, 45]\n"
     ]
    }
   ],
   "source": [
    "def common_elements(l1,l2):\n",
    "    common = []\n",
    "    \n",
    "    for i in l1:\n",
    "        if i in l2:\n",
    "            common.append(i)\n",
    "    return common\n",
    "\n",
    "l1 = [12,23,45,56,34,56]\n",
    "l2 = [23,23,45,456,67]\n",
    "\n",
    "common = common_elements(l1,l2)\n",
    "print(common)"
   ]
  },
  {
   "cell_type": "markdown",
   "id": "c785e47a",
   "metadata": {},
   "source": [
    "### 12. Implement a function to check if a given string is an anagram of another string."
   ]
  },
  {
   "cell_type": "code",
   "execution_count": 12,
   "id": "078489ea",
   "metadata": {},
   "outputs": [
    {
     "name": "stdout",
     "output_type": "stream",
     "text": [
      "True\n"
     ]
    }
   ],
   "source": [
    "def is_anagram_string(s1,s2):\n",
    "    s1 = list(s1)\n",
    "    s2 = list(s2)\n",
    "    s1.sort()\n",
    "    s2.sort()\n",
    "    \n",
    "    if s1 == s2:\n",
    "        return True\n",
    "    return False\n",
    "\n",
    "s1 = \"abcd\"\n",
    "s2 = \"cdba\"\n",
    "\n",
    "anagram = is_anagram_string(s1,s2)\n",
    "print(anagram)"
   ]
  },
  {
   "cell_type": "markdown",
   "id": "c1b60dfb",
   "metadata": {},
   "source": [
    "### 13. Write a Python program to generate all permutations of a given string."
   ]
  },
  {
   "cell_type": "code",
   "execution_count": 13,
   "id": "4a6d6114",
   "metadata": {},
   "outputs": [
    {
     "name": "stdout",
     "output_type": "stream",
     "text": [
      "['abc', 'acb', 'bac', 'bca', 'cab', 'cba']\n"
     ]
    }
   ],
   "source": [
    "def all_permutation_of_string(string):\n",
    "    if len(string) == 1:\n",
    "        return [string]\n",
    "\n",
    "    permutations = []\n",
    "    for i in range(len(string)):\n",
    "        first_char = string[i]\n",
    "        remaining_chars = string[:i] + string[i+1:]\n",
    "\n",
    "        for perm in all_permutation_of_string(remaining_chars):\n",
    "            permutations.append(first_char + perm)\n",
    "\n",
    "    return permutations\n",
    "\n",
    "s = \"abc\"\n",
    "pers = all_permutation_of_string(s)\n",
    "print(pers)"
   ]
  },
  {
   "cell_type": "markdown",
   "id": "a89165bc",
   "metadata": {},
   "source": [
    "### 14. Implement a function to calculate the Fibonacci sequence up to a given number of terms."
   ]
  },
  {
   "cell_type": "code",
   "execution_count": 14,
   "id": "ddd1537c",
   "metadata": {
    "scrolled": true
   },
   "outputs": [
    {
     "name": "stdout",
     "output_type": "stream",
     "text": [
      "[0, 1, 1, 2, 3, 5, 8, 13, 21, 34]\n"
     ]
    }
   ],
   "source": [
    "def generate_fibonacci_step(n):\n",
    "    seq = []\n",
    "    \n",
    "    if n >= 1:\n",
    "        seq.append(0)\n",
    "    if n >= 2:\n",
    "        seq.append(1)\n",
    "        \n",
    "    for i in range(n-2):\n",
    "        seq.append(seq[i]+seq[i+1])\n",
    "        \n",
    "    return seq\n",
    "    \n",
    "\n",
    "fibonacci = generate_fibonacci_step(10)\n",
    "print(fibonacci)"
   ]
  },
  {
   "cell_type": "markdown",
   "id": "176b1721",
   "metadata": {},
   "source": [
    "### 15. Write a program to find the median of a list of numbers."
   ]
  },
  {
   "cell_type": "code",
   "execution_count": 15,
   "id": "3f3db3a2",
   "metadata": {},
   "outputs": [
    {
     "name": "stdout",
     "output_type": "stream",
     "text": [
      "2.5\n"
     ]
    }
   ],
   "source": [
    "def median_list(l):\n",
    "    l.sort()\n",
    "    \n",
    "    n = len(l);\n",
    "    half = n // 2\n",
    "    if n%2 == 0:\n",
    "        return (l[half- 1] + l[half]) / 2\n",
    "    else:\n",
    "        return l[half]\n",
    "    \n",
    "l = [1,2,3,4]\n",
    "med = median_list(l)\n",
    "print(med)"
   ]
  },
  {
   "cell_type": "markdown",
   "id": "7c7beb0f",
   "metadata": {},
   "source": [
    "### 16. Implement a function to check if a given list is sorted in non-decreasing order."
   ]
  },
  {
   "cell_type": "code",
   "execution_count": 16,
   "id": "fdbc344d",
   "metadata": {},
   "outputs": [
    {
     "name": "stdout",
     "output_type": "stream",
     "text": [
      "True\n"
     ]
    }
   ],
   "source": [
    "def is_sorted_increasing(l):\n",
    "    n = len(l)\n",
    "    \n",
    "    if n <=1: \n",
    "        return l\n",
    "    \n",
    "    for i in range(n-1):\n",
    "        if l[i] > l[i+1]:\n",
    "            return False\n",
    "        \n",
    "    return True\n",
    "\n",
    "l = [2,34,45,57,68,78]\n",
    "is_increasing = is_sorted_increasing(l)\n",
    "print(is_increasing)"
   ]
  },
  {
   "cell_type": "markdown",
   "id": "3734dced",
   "metadata": {},
   "source": [
    "### 17. Write a Python program to find the intersection of two lists."
   ]
  },
  {
   "cell_type": "code",
   "execution_count": 17,
   "id": "33e96375",
   "metadata": {},
   "outputs": [
    {
     "name": "stdout",
     "output_type": "stream",
     "text": [
      "[2, 4, 6, 2]\n"
     ]
    }
   ],
   "source": [
    "def intersection_list(l1,l2):\n",
    "    d1 = {}\n",
    "    for i in l1:\n",
    "        if i in d1:\n",
    "            d1[i] += 1\n",
    "        else:\n",
    "            d1[i] = 1\n",
    "            \n",
    "    intersection = []\n",
    "    \n",
    "    for i in l2:\n",
    "        if i in d1 and d1[i] > 0:\n",
    "            intersection.append(i)\n",
    "            d1[i] -= 1\n",
    "            \n",
    "    return intersection\n",
    "\n",
    "l1 = [1,2,4,2,5,6]\n",
    "l2 = [2,4,6,8,0,2]\n",
    "\n",
    "intersect = intersection_list(l1,l2)\n",
    "print(intersect)"
   ]
  },
  {
   "cell_type": "markdown",
   "id": "2481b759",
   "metadata": {},
   "source": [
    "### 18. Implement a function to find the maximum subarray sum in a given list."
   ]
  },
  {
   "cell_type": "code",
   "execution_count": 18,
   "id": "dfe1a3d6",
   "metadata": {
    "scrolled": true
   },
   "outputs": [
    {
     "name": "stdout",
     "output_type": "stream",
     "text": [
      "23\n"
     ]
    }
   ],
   "source": [
    "import sys  # for int minimum\n",
    "\n",
    "def maximum_subarray_sum(l):\n",
    "    n = len(l)\n",
    "    if n == 0:\n",
    "        return None\n",
    "    \n",
    "    sum = 0\n",
    "    maxi = -sys.maxsize - 1\n",
    "    if n == 1:\n",
    "        return l[0];\n",
    "    \n",
    "    for i in range(len(l)):\n",
    "        sum += l[i]\n",
    "        maxi = max(maxi,sum)\n",
    "        \n",
    "        if sum < 0:\n",
    "            sum = 0\n",
    "            \n",
    "    return maxi\n",
    "            \n",
    "    \n",
    "l = [5,4,-1,7,8]\n",
    "maxi = maximum_subarray_sum(l)\n",
    "print(maxi)"
   ]
  },
  {
   "cell_type": "markdown",
   "id": "dfae61a0",
   "metadata": {},
   "source": [
    "### 19. Write a program to remove all vowels from a given string."
   ]
  },
  {
   "cell_type": "code",
   "execution_count": 19,
   "id": "fdc1354d",
   "metadata": {},
   "outputs": [
    {
     "name": "stdout",
     "output_type": "stream",
     "text": [
      "prnc\n"
     ]
    }
   ],
   "source": [
    "def remove_vowels(s):\n",
    "    vowels = \"AEIOUaeiou\"\n",
    "    ans = \"\"\n",
    "    for i in s:\n",
    "        if i not in vowels:\n",
    "            ans += i\n",
    "    \n",
    "    return ans\n",
    "\n",
    "mystr = \"prince\"\n",
    "ans_str = remove_vowels(mystr)\n",
    "print(ans_str)"
   ]
  },
  {
   "cell_type": "markdown",
   "id": "9c014458",
   "metadata": {},
   "source": [
    "### 20. Implement a function to reverse the order of words in a given sentence."
   ]
  },
  {
   "cell_type": "code",
   "execution_count": 20,
   "id": "87c8b33e",
   "metadata": {},
   "outputs": [
    {
     "name": "stdout",
     "output_type": "stream",
     "text": [
      "I ma atad tsitneics\n"
     ]
    }
   ],
   "source": [
    "def reverse_words_in_string(s):\n",
    "    s_l = s.split()\n",
    "    \n",
    "    for i in range(len(s_l)):\n",
    "        # reverse_string defined earlier\n",
    "        s_l[i] = reverse_string(s_l[i])   # we can also use s_l[i][::-1]\n",
    "        \n",
    "    return \" \".join(s_l)\n",
    "\n",
    "mystr = \"I am data scientist\"\n",
    "ans = reverse_words_in_string(mystr)\n",
    "print(ans)"
   ]
  },
  {
   "cell_type": "markdown",
   "id": "e5155f27",
   "metadata": {},
   "source": [
    "### 21. Write a Python program to check if two strings are anagrams of each other."
   ]
  },
  {
   "cell_type": "code",
   "execution_count": 21,
   "id": "b7481d4b",
   "metadata": {},
   "outputs": [
    {
     "name": "stdout",
     "output_type": "stream",
     "text": [
      "True\n"
     ]
    }
   ],
   "source": [
    "# this question is same as Q.12\n",
    "\n",
    "def is_anagram_string(s1,s2):\n",
    "    s1 = list(s1)\n",
    "    s2 = list(s2)\n",
    "    s1.sort()\n",
    "    s2.sort()\n",
    "    \n",
    "    if s1 == s2:\n",
    "        return True\n",
    "    return False\n",
    "\n",
    "s1 = \"abcd\"\n",
    "s2 = \"cdba\"\n",
    "\n",
    "anagram = is_anagram_string(s1,s2)\n",
    "print(anagram)"
   ]
  },
  {
   "cell_type": "markdown",
   "id": "d67eaf31",
   "metadata": {},
   "source": [
    "### 22. Implement a function to find the first non-repeating character in a string."
   ]
  },
  {
   "cell_type": "code",
   "execution_count": 22,
   "id": "781533ec",
   "metadata": {},
   "outputs": [
    {
     "name": "stdout",
     "output_type": "stream",
     "text": [
      "k\n"
     ]
    }
   ],
   "source": [
    "def first_nonrepeating_char(s):\n",
    "    s = s.lower()\n",
    "    for i in range(len(s)-1):\n",
    "        if s[i] not in s[0:i] + s[i+1:]:\n",
    "            return s[i]\n",
    "    return None\n",
    "        \n",
    "s = \"skills\"\n",
    "ans = first_nonrepeating_char(s)\n",
    "print(ans)"
   ]
  },
  {
   "cell_type": "markdown",
   "id": "34dfa564",
   "metadata": {},
   "source": [
    "### 23. Write a program to find the prime factors of a given number."
   ]
  },
  {
   "cell_type": "code",
   "execution_count": 23,
   "id": "18095da3",
   "metadata": {},
   "outputs": [
    {
     "name": "stdout",
     "output_type": "stream",
     "text": [
      "[2, 3, 7]\n"
     ]
    }
   ],
   "source": [
    "def prime_fectors(n):\n",
    "    fectors = []\n",
    "    for i in range(2,int(n/2+1)):\n",
    "        if n % i == 0: # it is fector of n\n",
    "            if is_prime(i): # is_prime defined earlier\n",
    "                fectors.append(i)\n",
    "                \n",
    "    return fectors\n",
    "            \n",
    "fectors = prime_fectors(84)\n",
    "print(fectors)"
   ]
  },
  {
   "cell_type": "markdown",
   "id": "bd5eeb43",
   "metadata": {},
   "source": [
    "### 24. Implement a function to check if a given number is a power of two."
   ]
  },
  {
   "cell_type": "code",
   "execution_count": 24,
   "id": "1493284f",
   "metadata": {},
   "outputs": [
    {
     "name": "stdout",
     "output_type": "stream",
     "text": [
      "True\n"
     ]
    }
   ],
   "source": [
    "def is_power_of_two(n):\n",
    "    if n<=0 :\n",
    "        return False\n",
    "    \n",
    "    while n>1:\n",
    "        \n",
    "        if n%2 != 0:\n",
    "            return False\n",
    "        \n",
    "        if n == 2:\n",
    "            return True\n",
    "        \n",
    "        n = n//2\n",
    "    return True\n",
    "\n",
    "ans = is_power_of_two(2)\n",
    "print(ans)"
   ]
  },
  {
   "cell_type": "markdown",
   "id": "9edf0d09",
   "metadata": {},
   "source": [
    "### 25. Write a Python program to merge two sorted lists into a single sorted list."
   ]
  },
  {
   "cell_type": "code",
   "execution_count": 25,
   "id": "97a7e7cb",
   "metadata": {},
   "outputs": [
    {
     "name": "stdout",
     "output_type": "stream",
     "text": [
      "[1, 1, 2, 3, 4, 5, 6, 7, 7, 8, 9, 10]\n"
     ]
    }
   ],
   "source": [
    "def merge_two_sorted_list(l1,l2):\n",
    "    n1 = len(l1)\n",
    "    n2 = len(l2)\n",
    "    \n",
    "    i = 0\n",
    "    j = 0\n",
    "    \n",
    "    ans = []\n",
    "    \n",
    "    while i<n1 and j<n2:\n",
    "        if(l1[i] <= l2[j]):\n",
    "            ans.append(l1[i])\n",
    "            i += 1\n",
    "        else:\n",
    "            ans.append(l2[j])\n",
    "            j += 1\n",
    "        \n",
    "    while i < n1:\n",
    "        ans.append(l1[i])\n",
    "        i += 1\n",
    "        \n",
    "    while j < n2:\n",
    "        ans.append(l2[j])\n",
    "        j += 1\n",
    "        \n",
    "    return ans\n",
    "\n",
    "l1 = [1,3,5,7,9,10]\n",
    "l2 = [1,2,4,6,7,8]\n",
    "\n",
    "ans = merge_two_sorted_list(l1,l2)\n",
    "print(ans)"
   ]
  },
  {
   "cell_type": "markdown",
   "id": "21076ffc",
   "metadata": {},
   "source": [
    "### 26. Implement a function to find the mode of a list of numbers."
   ]
  },
  {
   "cell_type": "code",
   "execution_count": 26,
   "id": "0d985014",
   "metadata": {},
   "outputs": [
    {
     "name": "stdout",
     "output_type": "stream",
     "text": [
      "[12, 56]\n"
     ]
    }
   ],
   "source": [
    "def mode_list(l):\n",
    "    l.sort()\n",
    "    ans = []\n",
    "    count = 1\n",
    "    maxi = 1\n",
    "    for i in range(len(l)-1):\n",
    "        if l[i] == l[i+1]:\n",
    "            count += 1\n",
    "            \n",
    "            if count == maxi:\n",
    "                ans.append(l[i])\n",
    "                maxi = count\n",
    "            elif count > maxi:\n",
    "                maxi = count\n",
    "                ans.clear()\n",
    "                ans.append(l[i])\n",
    "        else:\n",
    "            count = 1\n",
    "            \n",
    "    return ans\n",
    "\n",
    "l = [12,34,46,4,56,56,12]\n",
    "ans = mode_list(l)\n",
    "print(ans)"
   ]
  },
  {
   "cell_type": "markdown",
   "id": "9001a8ec",
   "metadata": {},
   "source": [
    "### 27. Write a program to find the greatest common divisor (GCD) of two numbers."
   ]
  },
  {
   "cell_type": "code",
   "execution_count": 27,
   "id": "9d10561c",
   "metadata": {},
   "outputs": [
    {
     "name": "stdout",
     "output_type": "stream",
     "text": [
      "4\n"
     ]
    }
   ],
   "source": [
    "def gcd(n1,n2):\n",
    "    while n2!=0:\n",
    "        n1,n2 = n2,n1%n2\n",
    "    return n1\n",
    "\n",
    "ans = gcd(12,40)\n",
    "print(ans)"
   ]
  },
  {
   "cell_type": "markdown",
   "id": "e29d6552",
   "metadata": {},
   "source": [
    "### 28. Implement a function to calculate the square root of a given number."
   ]
  },
  {
   "cell_type": "code",
   "execution_count": 28,
   "id": "d5b3eab4",
   "metadata": {},
   "outputs": [
    {
     "name": "stdout",
     "output_type": "stream",
     "text": [
      "3.1622776604441363\n"
     ]
    }
   ],
   "source": [
    "def square_root(n):\n",
    "    if n < 0:\n",
    "        return None\n",
    "\n",
    "    guess = n / 2\n",
    "\n",
    "    while True:\n",
    "        new_guess = (guess + n / guess) / 2\n",
    "        if abs(new_guess - guess) < 0.0001:\n",
    "            return new_guess\n",
    "        guess = new_guess\n",
    "\n",
    "ans = square_root(10)\n",
    "print(ans)"
   ]
  },
  {
   "cell_type": "markdown",
   "id": "1532d106",
   "metadata": {},
   "source": [
    "### 29. Write a Python program to check if a given string is a valid palindrome ignoring non-alphanumeric characters."
   ]
  },
  {
   "cell_type": "code",
   "execution_count": 29,
   "id": "8978290c",
   "metadata": {},
   "outputs": [
    {
     "name": "stdout",
     "output_type": "stream",
     "text": [
      "True\n"
     ]
    }
   ],
   "source": [
    "def is_palindrome_alphanumeric(s):\n",
    "    temp = \"1234567890abcdefghijklmnopqrstuvwxyz\"\n",
    "    \n",
    "    i = 0\n",
    "    j = len(s) - 1\n",
    "    \n",
    "    while i<j:\n",
    "        if s[i] not in temp:\n",
    "            i += 1\n",
    "        elif s[j] not in temp:\n",
    "            j -= 1\n",
    "        elif s[i] != s[j]:\n",
    "            return False\n",
    "        else:\n",
    "            i += 1\n",
    "            j -= 1\n",
    "        \n",
    "    return True\n",
    "\n",
    "s = \"ab%b&bba\"\n",
    "ans = is_palindrome_alphanumeric(s)\n",
    "print(ans)"
   ]
  },
  {
   "cell_type": "markdown",
   "id": "73f32ea0",
   "metadata": {},
   "source": [
    "### 30. Implement a function to find the minimum element in a rotated sorted list."
   ]
  },
  {
   "cell_type": "code",
   "execution_count": 30,
   "id": "262de0e3",
   "metadata": {},
   "outputs": [
    {
     "name": "stdout",
     "output_type": "stream",
     "text": [
      "1\n"
     ]
    }
   ],
   "source": [
    "def minimum_in_sorted_list(l):\n",
    "    i = 0\n",
    "    j = len(l)-1\n",
    "    \n",
    "    while(i<=j):\n",
    "        if l[i] <= l[j]:\n",
    "            return l[i]\n",
    "        \n",
    "        m = i + (j - i)//2\n",
    "        if(l[i] > l[m]):\n",
    "            j = m\n",
    "        elif(l[m] > l[j]):\n",
    "            i = m+1\n",
    "            \n",
    "    if l[i] <= l[j]:\n",
    "        return l[i]\n",
    "    return None\n",
    "\n",
    "\n",
    "l = [4,5,6,7,1,2]\n",
    "ans = minimum_in_sorted_list(l)\n",
    "print(ans)"
   ]
  },
  {
   "cell_type": "markdown",
   "id": "a915fdc0",
   "metadata": {},
   "source": [
    "### 31. Write a program to find the sum of all even numbers in a list."
   ]
  },
  {
   "cell_type": "code",
   "execution_count": 31,
   "id": "64c248dc",
   "metadata": {},
   "outputs": [
    {
     "name": "stdout",
     "output_type": "stream",
     "text": [
      "20\n"
     ]
    }
   ],
   "source": [
    "def sum_of_even(l):\n",
    "    sum = 0\n",
    "    for i in l:\n",
    "        if i%2 == 0:\n",
    "            sum += i\n",
    "            \n",
    "    return sum\n",
    "\n",
    "l = [1,2,3,4,5,6,7,8,9]\n",
    "sum = sum_of_even(l)\n",
    "print(sum)"
   ]
  },
  {
   "cell_type": "markdown",
   "id": "6dc7f856",
   "metadata": {},
   "source": [
    "### 32. Implement a function to calculate the power of a number using recursion."
   ]
  },
  {
   "cell_type": "code",
   "execution_count": 32,
   "id": "a910ddb6",
   "metadata": {},
   "outputs": [
    {
     "name": "stdout",
     "output_type": "stream",
     "text": [
      "125\n"
     ]
    }
   ],
   "source": [
    "def power(n,p):\n",
    "    if p == 0:\n",
    "        return 1\n",
    "    \n",
    "    return n * power(n,p-1)\n",
    "\n",
    "ans = power(5,3)\n",
    "print(ans)"
   ]
  },
  {
   "cell_type": "markdown",
   "id": "6150b47e",
   "metadata": {},
   "source": [
    "### 33. Write a Python program to remove duplicates from a list while preserving the order."
   ]
  },
  {
   "cell_type": "code",
   "execution_count": 33,
   "id": "8d65ab26",
   "metadata": {},
   "outputs": [
    {
     "name": "stdout",
     "output_type": "stream",
     "text": [
      "[12, 34, 56, 57]\n"
     ]
    }
   ],
   "source": [
    "def remove_duplicate_occur(l):\n",
    "    st = set()\n",
    "    \n",
    "    ans = [i for i in l if not (i in st or st.add(i))]\n",
    "    \n",
    "    return ans\n",
    "\n",
    "l = [12,34,56,57,56,12]\n",
    "removed_l = remove_duplicate_occur(l)\n",
    "print(removed_l)"
   ]
  },
  {
   "cell_type": "markdown",
   "id": "a1eab84c",
   "metadata": {},
   "source": [
    "### 34. Implement a function to find the longest common prefix among a list of strings."
   ]
  },
  {
   "cell_type": "code",
   "execution_count": 34,
   "id": "e7a27c40",
   "metadata": {},
   "outputs": [
    {
     "name": "stdout",
     "output_type": "stream",
     "text": [
      "ab\n"
     ]
    }
   ],
   "source": [
    "def common_prefix_str(l):\n",
    "    pre = \"\"\n",
    "    \n",
    "    cnt = 1\n",
    "    flag = False\n",
    "    while True:\n",
    "        pre = l[0][0:cnt]\n",
    "        for st in l:\n",
    "            if pre != st[0:cnt]:\n",
    "                flag = True\n",
    "                break\n",
    "        \n",
    "        if flag:\n",
    "            break\n",
    "        cnt += 1\n",
    "            \n",
    "    return pre[:cnt-1]\n",
    "\n",
    "l = [\"abcfg\",\"abdfg\",\"abefg\"]\n",
    "ans = common_prefix_str(l)\n",
    "print(ans)"
   ]
  },
  {
   "cell_type": "markdown",
   "id": "459a52f7",
   "metadata": {},
   "source": [
    "### 35. Write a program to check if a given number is a perfect square."
   ]
  },
  {
   "cell_type": "code",
   "execution_count": 35,
   "id": "fcda6744",
   "metadata": {},
   "outputs": [
    {
     "name": "stdout",
     "output_type": "stream",
     "text": [
      "True\n"
     ]
    }
   ],
   "source": [
    "import math\n",
    "def perfect_square(n):\n",
    "    sqrt = int(math.sqrt(n))\n",
    "    return sqrt*sqrt == n\n",
    "\n",
    "ans = perfect_square(25)\n",
    "print(ans)"
   ]
  },
  {
   "cell_type": "markdown",
   "id": "41e74bcf",
   "metadata": {},
   "source": [
    "### 36. Implement a function to calculate the product of all elements in a list."
   ]
  },
  {
   "cell_type": "code",
   "execution_count": 36,
   "id": "d87a494c",
   "metadata": {},
   "outputs": [
    {
     "name": "stdout",
     "output_type": "stream",
     "text": [
      "120\n"
     ]
    }
   ],
   "source": [
    "def product_of_list(l):\n",
    "    prd = 1\n",
    "    \n",
    "    for i in l:\n",
    "        prd *= i\n",
    "    return prd\n",
    "\n",
    "l = [12,2,5]\n",
    "ans = product_of_list(l)\n",
    "print(ans)"
   ]
  },
  {
   "cell_type": "markdown",
   "id": "8d1cea33",
   "metadata": {},
   "source": [
    "### 37. Write a Python program to reverse the order of words in a sentence while preserving the word order."
   ]
  },
  {
   "cell_type": "code",
   "execution_count": 37,
   "id": "34ac1d14",
   "metadata": {},
   "outputs": [
    {
     "name": "stdout",
     "output_type": "stream",
     "text": [
      "I ma atad tsitneics\n"
     ]
    }
   ],
   "source": [
    "def reverse_words_in_string(s):\n",
    "    s_l = s.split()\n",
    "    \n",
    "    for i in range(len(s_l)):\n",
    "        # reverse_string defined earlier\n",
    "        s_l[i] = reverse_string(s_l[i])   # we can also use s_l[i][::-1]\n",
    "        \n",
    "    return \" \".join(s_l)\n",
    "\n",
    "mystr = \"I am data scientist\"\n",
    "ans = reverse_words_in_string(mystr)\n",
    "print(ans)"
   ]
  },
  {
   "cell_type": "markdown",
   "id": "b964a001",
   "metadata": {},
   "source": [
    "### 38. Implement a function to find the missing number in a given list of consecutive numbers."
   ]
  },
  {
   "cell_type": "code",
   "execution_count": 38,
   "id": "4324536d",
   "metadata": {},
   "outputs": [
    {
     "name": "stdout",
     "output_type": "stream",
     "text": [
      "4.0\n"
     ]
    }
   ],
   "source": [
    "def missing_number(l,n):\n",
    "    total = n*(n+1)/2\n",
    "    \n",
    "    for i in l:\n",
    "        total -= i\n",
    "    return total\n",
    "\n",
    "l = [1,2,3,5]\n",
    "ans = missing_number(l,5)\n",
    "print(ans)"
   ]
  },
  {
   "cell_type": "markdown",
   "id": "ba3e4ec3",
   "metadata": {},
   "source": [
    "### 39. Write a program to find the sum of digits of a given number."
   ]
  },
  {
   "cell_type": "code",
   "execution_count": 39,
   "id": "08a6c168",
   "metadata": {},
   "outputs": [
    {
     "name": "stdout",
     "output_type": "stream",
     "text": [
      "12\n"
     ]
    }
   ],
   "source": [
    "def sum_of_digit(n):\n",
    "    sum = 0\n",
    "    \n",
    "    while(n>0):\n",
    "        sum += n%10\n",
    "        n = n//10\n",
    "    return sum\n",
    "\n",
    "ans = sum_of_digit(2334)\n",
    "print(ans)"
   ]
  },
  {
   "cell_type": "markdown",
   "id": "4848ae91",
   "metadata": {},
   "source": [
    "### 40. Implement a function to check if a given string is a valid palindrome considering case sensitivity."
   ]
  },
  {
   "cell_type": "code",
   "execution_count": 40,
   "id": "b8364ac9",
   "metadata": {},
   "outputs": [
    {
     "name": "stdout",
     "output_type": "stream",
     "text": [
      "No\n"
     ]
    }
   ],
   "source": [
    "def is_palindrome_string_case_sensitive(s):\n",
    "    i = 0\n",
    "    j = len(s)-1\n",
    "    while(i<j):\n",
    "        if s[i] != s[j]:\n",
    "            return False\n",
    "        i += 1\n",
    "        j -= 1\n",
    "    return True\n",
    "\n",
    "mystr = \"abcbA\"\n",
    "if is_palindrome_string_case_sensitive(mystr):\n",
    "    print(\"Yes\")\n",
    "else:\n",
    "    print(\"No\")"
   ]
  },
  {
   "cell_type": "markdown",
   "id": "41088765",
   "metadata": {},
   "source": [
    "### 41. Write a Python program to find the smallest missing positive integer in a list."
   ]
  },
  {
   "cell_type": "code",
   "execution_count": 41,
   "id": "0bd4df25",
   "metadata": {},
   "outputs": [
    {
     "name": "stdout",
     "output_type": "stream",
     "text": [
      "5\n"
     ]
    }
   ],
   "source": [
    "def smallest_positive_integer(l):\n",
    "    i = 0\n",
    "    num_set = set(l)\n",
    "\n",
    "    i = 0\n",
    "    while True:\n",
    "        if i not in num_set:\n",
    "            return i\n",
    "        i += 1\n",
    "        \n",
    "l = [12,34,64,-23,-23,0,1,2,3,4]\n",
    "ans = smallest_positive_integer(l)\n",
    "print(ans)"
   ]
  },
  {
   "cell_type": "markdown",
   "id": "39cb9098",
   "metadata": {},
   "source": [
    "### 42. Implement a function to find the longest palindrome substring in a given string."
   ]
  },
  {
   "cell_type": "code",
   "execution_count": 42,
   "id": "2886653a",
   "metadata": {},
   "outputs": [
    {
     "name": "stdout",
     "output_type": "stream",
     "text": [
      "aassaa\n"
     ]
    }
   ],
   "source": [
    "def longest_palindrome(s):\n",
    "    longest = \"\"\n",
    "    \n",
    "    for i in range(len(s)):\n",
    "        for j in range(i,len(s)+1):\n",
    "            curr = s[i:j]\n",
    "            \n",
    "            if is_palindrome_string(curr) and len(curr) > len(longest):  #is_palindrome defined earlier\n",
    "                longest = curr\n",
    "                \n",
    "    return longest\n",
    "                \n",
    "s = \"spabaqqaassaa\"\n",
    "ans = longest_palindrome(s)\n",
    "print(ans)"
   ]
  },
  {
   "cell_type": "markdown",
   "id": "c535d136",
   "metadata": {},
   "source": [
    "### 43. Write a program to find the number of occurrences of a given element in a list."
   ]
  },
  {
   "cell_type": "code",
   "execution_count": 43,
   "id": "1a6a1eb9",
   "metadata": {},
   "outputs": [
    {
     "name": "stdout",
     "output_type": "stream",
     "text": [
      "2\n"
     ]
    }
   ],
   "source": [
    "def number_of_occur(l,n):\n",
    "    cnt = 0;\n",
    "    for i in l:\n",
    "        if i == n:\n",
    "            cnt += 1\n",
    "            \n",
    "    return cnt\n",
    "\n",
    "l = [12,3,45,56,34,45,2,1]\n",
    "ans = number_of_occur(l,45)\n",
    "print(ans)"
   ]
  },
  {
   "cell_type": "markdown",
   "id": "c653564e",
   "metadata": {},
   "source": [
    "### 44. Implement a function to check if a given number is a perfect number."
   ]
  },
  {
   "cell_type": "code",
   "execution_count": 44,
   "id": "3b0531ef",
   "metadata": {},
   "outputs": [
    {
     "name": "stdout",
     "output_type": "stream",
     "text": [
      "True\n"
     ]
    }
   ],
   "source": [
    "def is_perfect_number(n):\n",
    "    fectors = []\n",
    "    for i in range(1,int(n/2+1)):\n",
    "        if n%i == 0:\n",
    "            fectors.append(i)\n",
    "            \n",
    "    sum_of_fectors = sum_list(fectors)  #sum_list defined earlier\n",
    "    \n",
    "    if n == sum_of_fectors:\n",
    "        return True\n",
    "    return False\n",
    "\n",
    "ans = is_perfect_number(6)\n",
    "print(ans)"
   ]
  },
  {
   "cell_type": "markdown",
   "id": "aa388104",
   "metadata": {},
   "source": [
    "### 45. Write a Python program to remove all duplicates from a string."
   ]
  },
  {
   "cell_type": "code",
   "execution_count": 45,
   "id": "9d646237",
   "metadata": {},
   "outputs": [
    {
     "name": "stdout",
     "output_type": "stream",
     "text": [
      "karm\n"
     ]
    }
   ],
   "source": [
    "def remove_duplicate_string(s):\n",
    "    s_l = list(s)\n",
    "    s_l = remove_duplicate_occur(s_l)  #remove_duplicate_occur defined earlier\n",
    "    return \"\".join(s_l)\n",
    "\n",
    "s = \"karma\"\n",
    "ans = remove_duplicate_string(s)\n",
    "print(ans)"
   ]
  },
  {
   "cell_type": "markdown",
   "id": "d20d7d7a",
   "metadata": {},
   "source": [
    "### 46. Implement a function to find the first missing positive"
   ]
  },
  {
   "cell_type": "code",
   "execution_count": 46,
   "id": "368eb454",
   "metadata": {},
   "outputs": [
    {
     "name": "stdout",
     "output_type": "stream",
     "text": [
      "2\n"
     ]
    }
   ],
   "source": [
    "def first_smallest_positive_integer(l):\n",
    "    i = 0\n",
    "    num_set = set(l)\n",
    "\n",
    "    i = 0\n",
    "    while True:\n",
    "        if i not in num_set:\n",
    "            return i\n",
    "        i += 1\n",
    "        \n",
    "l = [12,34,64,-23,-23,0,1]\n",
    "ans = first_smallest_positive_integer(l)\n",
    "print(ans)"
   ]
  }
 ],
 "metadata": {
  "kernelspec": {
   "display_name": "Python 3 (ipykernel)",
   "language": "python",
   "name": "python3"
  },
  "language_info": {
   "codemirror_mode": {
    "name": "ipython",
    "version": 3
   },
   "file_extension": ".py",
   "mimetype": "text/x-python",
   "name": "python",
   "nbconvert_exporter": "python",
   "pygments_lexer": "ipython3",
   "version": "3.10.0"
  }
 },
 "nbformat": 4,
 "nbformat_minor": 5
}
